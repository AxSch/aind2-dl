{
 "cells": [
  {
   "cell_type": "markdown",
   "metadata": {},
   "source": [
    "# Analyzing IMDB Data in Keras"
   ]
  },
  {
   "cell_type": "code",
   "execution_count": 1,
   "metadata": {},
   "outputs": [
    {
     "name": "stderr",
     "output_type": "stream",
     "text": [
      "Using TensorFlow backend.\n"
     ]
    }
   ],
   "source": [
    "# Imports\n",
    "import numpy as np\n",
    "import keras\n",
    "from keras.datasets import imdb\n",
    "from keras.models import Sequential\n",
    "from keras.layers import Dense, Dropout, Activation\n",
    "from keras.preprocessing.text import Tokenizer\n",
    "import matplotlib.pyplot as plt\n",
    "%matplotlib inline\n",
    "\n",
    "np.random.seed(42)"
   ]
  },
  {
   "cell_type": "markdown",
   "metadata": {},
   "source": [
    "## 1. Loading the data\n",
    "This dataset comes preloaded with Keras, so one simple command will get us training and testing data. There is a parameter for how many words we want to look at. We've set it at 1000, but feel free to experiment."
   ]
  },
  {
   "cell_type": "code",
   "execution_count": 2,
   "metadata": {},
   "outputs": [
    {
     "name": "stdout",
     "output_type": "stream",
     "text": [
      "(25000,)\n",
      "(25000,)\n"
     ]
    }
   ],
   "source": [
    "# Loading the data (it's preloaded in Keras)\n",
    "(x_train, y_train), (x_test, y_test) = imdb.load_data(num_words=2000)\n",
    "\n",
    "print(x_train.shape)\n",
    "print(x_test.shape)"
   ]
  },
  {
   "cell_type": "markdown",
   "metadata": {},
   "source": [
    "## 2. Examining the data\n",
    "Notice that the data has been already pre-processed, where all the words have numbers, and the reviews come in as a vector with the words that the review contains. For example, if the word 'the' is the first one in our dictionary, and a review contains the word 'the', then there is a 1 in the corresponding vector.\n",
    "\n",
    "The output comes as a vector of 1's and 0's, where 1 is a positive sentiment for the review, and 0 is negative."
   ]
  },
  {
   "cell_type": "code",
   "execution_count": 3,
   "metadata": {},
   "outputs": [
    {
     "name": "stdout",
     "output_type": "stream",
     "text": [
      "[1, 14, 22, 16, 43, 530, 973, 1622, 1385, 65, 458, 2, 66, 2, 4, 173, 36, 256, 5, 25, 100, 43, 838, 112, 50, 670, 2, 9, 35, 480, 284, 5, 150, 4, 172, 112, 167, 2, 336, 385, 39, 4, 172, 2, 1111, 17, 546, 38, 13, 447, 4, 192, 50, 16, 6, 147, 2, 19, 14, 22, 4, 1920, 2, 469, 4, 22, 71, 87, 12, 16, 43, 530, 38, 76, 15, 13, 1247, 4, 22, 17, 515, 17, 12, 16, 626, 18, 2, 5, 62, 386, 12, 8, 316, 8, 106, 5, 4, 2, 2, 16, 480, 66, 2, 33, 4, 130, 12, 16, 38, 619, 5, 25, 124, 51, 36, 135, 48, 25, 1415, 33, 6, 22, 12, 215, 28, 77, 52, 5, 14, 407, 16, 82, 2, 8, 4, 107, 117, 2, 15, 256, 4, 2, 7, 2, 5, 723, 36, 71, 43, 530, 476, 26, 400, 317, 46, 7, 4, 2, 1029, 13, 104, 88, 4, 381, 15, 297, 98, 32, 2, 56, 26, 141, 6, 194, 2, 18, 4, 226, 22, 21, 134, 476, 26, 480, 5, 144, 30, 2, 18, 51, 36, 28, 224, 92, 25, 104, 4, 226, 65, 16, 38, 1334, 88, 12, 16, 283, 5, 16, 2, 113, 103, 32, 15, 16, 2, 19, 178, 32]\n",
      "1\n"
     ]
    }
   ],
   "source": [
    "print(x_train[0])\n",
    "print(y_train[0])"
   ]
  },
  {
   "cell_type": "markdown",
   "metadata": {},
   "source": [
    "## 3. One-hot encoding the output\n",
    "Here, we'll turn the input vectors into (0,1)-vectors. For example, if the pre-processed vector contains the number 14, then in the processed vector, the 14th entry will be 1."
   ]
  },
  {
   "cell_type": "code",
   "execution_count": 4,
   "metadata": {},
   "outputs": [
    {
     "name": "stdout",
     "output_type": "stream",
     "text": [
      "[ 0.  1.  1. ...,  0.  0.  0.]\n"
     ]
    }
   ],
   "source": [
    "# One-hot encoding the output into vector mode, each of length 1000\n",
    "tokenizer = Tokenizer(num_words=2000)\n",
    "x_train = tokenizer.sequences_to_matrix(x_train, mode='binary')\n",
    "x_test = tokenizer.sequences_to_matrix(x_test, mode='binary')\n",
    "print(x_train[0])"
   ]
  },
  {
   "cell_type": "markdown",
   "metadata": {},
   "source": [
    "And we'll also one-hot encode the output."
   ]
  },
  {
   "cell_type": "code",
   "execution_count": 5,
   "metadata": {},
   "outputs": [
    {
     "name": "stdout",
     "output_type": "stream",
     "text": [
      "(25000, 2)\n",
      "(25000, 2)\n"
     ]
    }
   ],
   "source": [
    "# One-hot encoding the output\n",
    "num_classes = 2\n",
    "y_train = keras.utils.to_categorical(y_train, num_classes)\n",
    "y_test = keras.utils.to_categorical(y_test, num_classes)\n",
    "print(y_train.shape)\n",
    "print(y_test.shape)"
   ]
  },
  {
   "cell_type": "markdown",
   "metadata": {},
   "source": [
    "## 4. Building the  model architecture\n",
    "Build a model here using sequential. Feel free to experiment with different layers and sizes! Also, experiment adding dropout to reduce overfitting."
   ]
  },
  {
   "cell_type": "code",
   "execution_count": 6,
   "metadata": {},
   "outputs": [
    {
     "name": "stdout",
     "output_type": "stream",
     "text": [
      "_________________________________________________________________\n",
      "Layer (type)                 Output Shape              Param #   \n",
      "=================================================================\n",
      "dense_1 (Dense)              (None, 8)                 16008     \n",
      "_________________________________________________________________\n",
      "dropout_1 (Dropout)          (None, 8)                 0         \n",
      "_________________________________________________________________\n",
      "dense_2 (Dense)              (None, 32)                288       \n",
      "_________________________________________________________________\n",
      "dropout_2 (Dropout)          (None, 32)                0         \n",
      "_________________________________________________________________\n",
      "dense_3 (Dense)              (None, 255)               8415      \n",
      "_________________________________________________________________\n",
      "dropout_3 (Dropout)          (None, 255)               0         \n",
      "_________________________________________________________________\n",
      "dense_4 (Dense)              (None, 128)               32768     \n",
      "_________________________________________________________________\n",
      "dropout_4 (Dropout)          (None, 128)               0         \n",
      "_________________________________________________________________\n",
      "dense_5 (Dense)              (None, 2)                 258       \n",
      "=================================================================\n",
      "Total params: 57,737\n",
      "Trainable params: 57,737\n",
      "Non-trainable params: 0\n",
      "_________________________________________________________________\n"
     ]
    }
   ],
   "source": [
    "# TODO: Build the model architecture\n",
    "model = Sequential()\n",
    "model.add(Dense(8, activation=\"relu\", input_dim=2000))\n",
    "model.add(Dropout(0.2))\n",
    "model.add(Dense(32, activation=\"relu\"))\n",
    "model.add(Dropout(0.5))\n",
    "model.add(Dense(128, activation=\"selu\"))\n",
    "model.add(Dropout(0.3))\n",
    "model.add(Dense(2, activation=\"softmax\"))\n",
    "# TODO: Compile the model using a loss function and an optimizer.\n",
    "model.compile(loss='categorical_crossentropy', optimizer = 'sgd', metrics=['accuracy'])\n",
    "model.summary()"
   ]
  },
  {
   "cell_type": "markdown",
   "metadata": {},
   "source": [
    "## 5. Training the model\n",
    "Run the model here. Experiment with different batch_size, and number of epochs!"
   ]
  },
  {
   "cell_type": "code",
   "execution_count": 7,
   "metadata": {},
   "outputs": [
    {
     "name": "stdout",
     "output_type": "stream",
     "text": [
      "Epoch 1/100\n",
      "25000/25000 [==============================] - 1s - loss: 0.7432 - acc: 0.5054     \n",
      "Epoch 2/100\n",
      "25000/25000 [==============================] - 1s - loss: 0.7350 - acc: 0.5019     \n",
      "Epoch 3/100\n",
      "25000/25000 [==============================] - 1s - loss: 0.7283 - acc: 0.5027     \n",
      "Epoch 4/100\n",
      "25000/25000 [==============================] - 1s - loss: 0.7235 - acc: 0.5005     \n",
      "Epoch 5/100\n",
      "25000/25000 [==============================] - 1s - loss: 0.7216 - acc: 0.4961     \n",
      "Epoch 6/100\n",
      "25000/25000 [==============================] - 1s - loss: 0.7178 - acc: 0.4947     \n",
      "Epoch 7/100\n",
      "25000/25000 [==============================] - 1s - loss: 0.7156 - acc: 0.4947     \n",
      "Epoch 8/100\n",
      "25000/25000 [==============================] - 1s - loss: 0.7129 - acc: 0.5022     \n",
      "Epoch 9/100\n",
      "25000/25000 [==============================] - 1s - loss: 0.7107 - acc: 0.5044     \n",
      "Epoch 10/100\n",
      "25000/25000 [==============================] - 1s - loss: 0.7117 - acc: 0.4966     \n",
      "Epoch 11/100\n",
      "25000/25000 [==============================] - 1s - loss: 0.7086 - acc: 0.5020     \n",
      "Epoch 12/100\n",
      "25000/25000 [==============================] - 1s - loss: 0.7080 - acc: 0.5024     \n",
      "Epoch 13/100\n",
      "25000/25000 [==============================] - 1s - loss: 0.7088 - acc: 0.4981     - ETA: 0s - loss: 0.7087 -\n",
      "Epoch 14/100\n",
      "25000/25000 [==============================] - 1s - loss: 0.7070 - acc: 0.4954     \n",
      "Epoch 15/100\n",
      "25000/25000 [==============================] - 1s - loss: 0.7060 - acc: 0.4996     \n",
      "Epoch 16/100\n",
      "25000/25000 [==============================] - 1s - loss: 0.7043 - acc: 0.5034     \n",
      "Epoch 17/100\n",
      "25000/25000 [==============================] - 1s - loss: 0.7053 - acc: 0.4982     \n",
      "Epoch 18/100\n",
      "25000/25000 [==============================] - 1s - loss: 0.7036 - acc: 0.5014     \n",
      "Epoch 19/100\n",
      "25000/25000 [==============================] - 1s - loss: 0.7027 - acc: 0.5036     \n",
      "Epoch 20/100\n",
      "25000/25000 [==============================] - 1s - loss: 0.7039 - acc: 0.4930     \n",
      "Epoch 21/100\n",
      "25000/25000 [==============================] - 1s - loss: 0.7038 - acc: 0.4942     \n",
      "Epoch 22/100\n",
      "25000/25000 [==============================] - 1s - loss: 0.7025 - acc: 0.4962     \n",
      "Epoch 23/100\n",
      "25000/25000 [==============================] - 1s - loss: 0.7009 - acc: 0.5047     \n",
      "Epoch 24/100\n",
      "25000/25000 [==============================] - 1s - loss: 0.7020 - acc: 0.4954     \n",
      "Epoch 25/100\n",
      "25000/25000 [==============================] - 1s - loss: 0.7012 - acc: 0.4999     \n",
      "Epoch 26/100\n",
      "25000/25000 [==============================] - 1s - loss: 0.7011 - acc: 0.4962     \n",
      "Epoch 27/100\n",
      "25000/25000 [==============================] - 1s - loss: 0.7007 - acc: 0.4982     \n",
      "Epoch 28/100\n",
      "25000/25000 [==============================] - 1s - loss: 0.7007 - acc: 0.5028     \n",
      "Epoch 29/100\n",
      "25000/25000 [==============================] - 1s - loss: 0.7000 - acc: 0.5041     \n",
      "Epoch 30/100\n",
      "25000/25000 [==============================] - 1s - loss: 0.7005 - acc: 0.5002     \n",
      "Epoch 31/100\n",
      "25000/25000 [==============================] - 1s - loss: 0.7007 - acc: 0.4938     \n",
      "Epoch 32/100\n",
      "25000/25000 [==============================] - 1s - loss: 0.6991 - acc: 0.5046     \n",
      "Epoch 33/100\n",
      "25000/25000 [==============================] - 1s - loss: 0.6985 - acc: 0.5044     \n",
      "Epoch 34/100\n",
      "25000/25000 [==============================] - 1s - loss: 0.6997 - acc: 0.4950     \n",
      "Epoch 35/100\n",
      "25000/25000 [==============================] - 1s - loss: 0.6988 - acc: 0.5004     \n",
      "Epoch 36/100\n",
      "25000/25000 [==============================] - 1s - loss: 0.6989 - acc: 0.5000     \n",
      "Epoch 37/100\n",
      "25000/25000 [==============================] - 1s - loss: 0.6985 - acc: 0.4997     \n",
      "Epoch 38/100\n",
      "25000/25000 [==============================] - 1s - loss: 0.6974 - acc: 0.5052     \n",
      "Epoch 39/100\n",
      "25000/25000 [==============================] - 1s - loss: 0.6971 - acc: 0.5038     \n",
      "Epoch 40/100\n",
      "25000/25000 [==============================] - 1s - loss: 0.6985 - acc: 0.4994     \n",
      "Epoch 41/100\n",
      "25000/25000 [==============================] - 1s - loss: 0.6979 - acc: 0.4997     \n",
      "Epoch 42/100\n",
      "25000/25000 [==============================] - 1s - loss: 0.6979 - acc: 0.5005     \n",
      "Epoch 43/100\n",
      "25000/25000 [==============================] - 1s - loss: 0.6974 - acc: 0.5030     \n",
      "Epoch 44/100\n",
      "25000/25000 [==============================] - 1s - loss: 0.6981 - acc: 0.5007     \n",
      "Epoch 45/100\n",
      "25000/25000 [==============================] - 1s - loss: 0.6968 - acc: 0.5026     \n",
      "Epoch 46/100\n",
      "25000/25000 [==============================] - 1s - loss: 0.6971 - acc: 0.5027     \n",
      "Epoch 47/100\n",
      "25000/25000 [==============================] - 1s - loss: 0.6971 - acc: 0.5019     \n",
      "Epoch 48/100\n",
      "25000/25000 [==============================] - 1s - loss: 0.6968 - acc: 0.5044     \n",
      "Epoch 49/100\n",
      "25000/25000 [==============================] - 1s - loss: 0.6973 - acc: 0.4978     \n",
      "Epoch 50/100\n",
      "25000/25000 [==============================] - 1s - loss: 0.6970 - acc: 0.5000     \n",
      "Epoch 51/100\n",
      "25000/25000 [==============================] - 1s - loss: 0.6972 - acc: 0.4981     \n",
      "Epoch 52/100\n",
      "25000/25000 [==============================] - 1s - loss: 0.6972 - acc: 0.4989     \n",
      "Epoch 53/100\n",
      "25000/25000 [==============================] - 1s - loss: 0.6977 - acc: 0.5013     \n",
      "Epoch 54/100\n",
      "25000/25000 [==============================] - 1s - loss: 0.6958 - acc: 0.5020     \n",
      "Epoch 55/100\n",
      "25000/25000 [==============================] - 1s - loss: 0.6971 - acc: 0.4988     \n",
      "Epoch 56/100\n",
      "25000/25000 [==============================] - 1s - loss: 0.6958 - acc: 0.5036     \n",
      "Epoch 57/100\n",
      "25000/25000 [==============================] - 1s - loss: 0.6953 - acc: 0.5051     \n",
      "Epoch 58/100\n",
      "25000/25000 [==============================] - 1s - loss: 0.6963 - acc: 0.5026     \n",
      "Epoch 59/100\n",
      "25000/25000 [==============================] - 1s - loss: 0.6963 - acc: 0.5006     \n",
      "Epoch 60/100\n",
      "25000/25000 [==============================] - 1s - loss: 0.6967 - acc: 0.4958     \n",
      "Epoch 61/100\n",
      "25000/25000 [==============================] - 1s - loss: 0.6961 - acc: 0.5005     \n",
      "Epoch 62/100\n",
      "25000/25000 [==============================] - 1s - loss: 0.6962 - acc: 0.5008     \n",
      "Epoch 63/100\n",
      "25000/25000 [==============================] - 1s - loss: 0.6964 - acc: 0.4988     \n",
      "Epoch 64/100\n",
      "25000/25000 [==============================] - 1s - loss: 0.6957 - acc: 0.5026     \n",
      "Epoch 65/100\n",
      "25000/25000 [==============================] - 1s - loss: 0.6955 - acc: 0.4984     \n",
      "Epoch 66/100\n",
      "25000/25000 [==============================] - 1s - loss: 0.6959 - acc: 0.5003     \n",
      "Epoch 67/100\n",
      "25000/25000 [==============================] - 1s - loss: 0.6955 - acc: 0.5009     \n",
      "Epoch 68/100\n",
      "25000/25000 [==============================] - 1s - loss: 0.6958 - acc: 0.5002     \n",
      "Epoch 69/100\n",
      "25000/25000 [==============================] - 1s - loss: 0.6954 - acc: 0.4998     \n",
      "Epoch 70/100\n",
      "25000/25000 [==============================] - 1s - loss: 0.6964 - acc: 0.4960     \n",
      "Epoch 71/100\n",
      "25000/25000 [==============================] - 1s - loss: 0.6959 - acc: 0.4966     \n",
      "Epoch 72/100\n",
      "25000/25000 [==============================] - 1s - loss: 0.6953 - acc: 0.5052     \n",
      "Epoch 73/100\n",
      "25000/25000 [==============================] - 1s - loss: 0.6958 - acc: 0.4997     \n",
      "Epoch 74/100\n",
      "25000/25000 [==============================] - 1s - loss: 0.6955 - acc: 0.5023     \n",
      "Epoch 75/100\n",
      "25000/25000 [==============================] - 1s - loss: 0.6961 - acc: 0.4955     \n",
      "Epoch 76/100\n",
      "25000/25000 [==============================] - 1s - loss: 0.6947 - acc: 0.5092     \n",
      "Epoch 77/100\n",
      "25000/25000 [==============================] - 1s - loss: 0.6957 - acc: 0.5000     \n",
      "Epoch 78/100\n",
      "25000/25000 [==============================] - 1s - loss: 0.6958 - acc: 0.4965     \n",
      "Epoch 79/100\n",
      "25000/25000 [==============================] - 1s - loss: 0.6951 - acc: 0.5022     \n",
      "Epoch 80/100\n",
      "25000/25000 [==============================] - 1s - loss: 0.6953 - acc: 0.4987     - ETA: 1s - loss:\n",
      "Epoch 81/100\n",
      "25000/25000 [==============================] - 1s - loss: 0.6953 - acc: 0.5025     \n",
      "Epoch 82/100\n",
      "25000/25000 [==============================] - 1s - loss: 0.6958 - acc: 0.4982     \n",
      "Epoch 83/100\n",
      "25000/25000 [==============================] - 1s - loss: 0.6953 - acc: 0.5004     \n",
      "Epoch 84/100\n",
      "25000/25000 [==============================] - 1s - loss: 0.6950 - acc: 0.5014     \n",
      "Epoch 85/100\n"
     ]
    },
    {
     "name": "stdout",
     "output_type": "stream",
     "text": [
      "25000/25000 [==============================] - 1s - loss: 0.6953 - acc: 0.4998     \n",
      "Epoch 86/100\n",
      "25000/25000 [==============================] - 1s - loss: 0.6953 - acc: 0.4990     \n",
      "Epoch 87/100\n",
      "25000/25000 [==============================] - 1s - loss: 0.6949 - acc: 0.5019     \n",
      "Epoch 88/100\n",
      "25000/25000 [==============================] - 1s - loss: 0.6947 - acc: 0.5025     \n",
      "Epoch 89/100\n",
      "25000/25000 [==============================] - 1s - loss: 0.6949 - acc: 0.5011     \n",
      "Epoch 90/100\n",
      "25000/25000 [==============================] - 1s - loss: 0.6952 - acc: 0.4974     \n",
      "Epoch 91/100\n",
      "25000/25000 [==============================] - 1s - loss: 0.6951 - acc: 0.5020     \n",
      "Epoch 92/100\n",
      "25000/25000 [==============================] - 1s - loss: 0.6944 - acc: 0.5032     \n",
      "Epoch 93/100\n",
      "25000/25000 [==============================] - 1s - loss: 0.6947 - acc: 0.5036     \n",
      "Epoch 94/100\n",
      "25000/25000 [==============================] - 1s - loss: 0.6954 - acc: 0.4970     \n",
      "Epoch 95/100\n",
      "25000/25000 [==============================] - 1s - loss: 0.6952 - acc: 0.4957     \n",
      "Epoch 96/100\n",
      "25000/25000 [==============================] - 1s - loss: 0.6949 - acc: 0.5012     \n",
      "Epoch 97/100\n",
      "25000/25000 [==============================] - 1s - loss: 0.6951 - acc: 0.4994     \n",
      "Epoch 98/100\n",
      "25000/25000 [==============================] - 1s - loss: 0.6954 - acc: 0.4960     \n",
      "Epoch 99/100\n",
      "25000/25000 [==============================] - 1s - loss: 0.6942 - acc: 0.5064     \n",
      "Epoch 100/100\n",
      "25000/25000 [==============================] - 1s - loss: 0.6946 - acc: 0.5026     \n"
     ]
    },
    {
     "data": {
      "text/plain": [
       "<keras.callbacks.History at 0x117058a90>"
      ]
     },
     "execution_count": 7,
     "metadata": {},
     "output_type": "execute_result"
    }
   ],
   "source": [
    "# TODO: Run the model. Feel free to experiment with different batch sizes and number of epochs."
   ]
  },
  {
   "cell_type": "markdown",
   "metadata": {},
   "source": [
    "## 6. Evaluating the model\n",
    "This will give you the accuracy of the model, as evaluated on the testing set. Can you get something over 85%?"
   ]
  },
  {
   "cell_type": "code",
   "execution_count": 8,
   "metadata": {},
   "outputs": [
    {
     "name": "stdout",
     "output_type": "stream",
     "text": [
      "Accuracy:  0.5\n"
     ]
    }
   ],
   "source": [
    "score = model.evaluate(x_test, y_test, verbose=0)\n",
    "print(\"Accuracy: \", score[1])"
   ]
  },
  {
   "cell_type": "code",
   "execution_count": null,
   "metadata": {
    "collapsed": true
   },
   "outputs": [],
   "source": []
  }
 ],
 "metadata": {
  "kernelspec": {
   "display_name": "Python 3",
   "language": "python",
   "name": "python3"
  },
  "language_info": {
   "codemirror_mode": {
    "name": "ipython",
    "version": 3
   },
   "file_extension": ".py",
   "mimetype": "text/x-python",
   "name": "python",
   "nbconvert_exporter": "python",
   "pygments_lexer": "ipython3",
   "version": "3.6.1"
  }
 },
 "nbformat": 4,
 "nbformat_minor": 2
}
